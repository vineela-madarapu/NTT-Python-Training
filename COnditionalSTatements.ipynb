{
  "nbformat": 4,
  "nbformat_minor": 0,
  "metadata": {
    "colab": {
      "provenance": [],
      "authorship_tag": "ABX9TyNfeaxLOYQ8HfnGMneFKvPU",
      "include_colab_link": true
    },
    "kernelspec": {
      "name": "python3",
      "display_name": "Python 3"
    },
    "language_info": {
      "name": "python"
    }
  },
  "cells": [
    {
      "cell_type": "markdown",
      "metadata": {
        "id": "view-in-github",
        "colab_type": "text"
      },
      "source": [
        "<a href=\"https://colab.research.google.com/github/vineela-madarapu/NTT-Python-Training/blob/main/COnditionalSTatements.ipynb\" target=\"_parent\"><img src=\"https://colab.research.google.com/assets/colab-badge.svg\" alt=\"Open In Colab\"/></a>"
      ]
    },
    {
      "cell_type": "code",
      "execution_count": 1,
      "metadata": {
        "colab": {
          "base_uri": "https://localhost:8080/"
        },
        "id": "2FozuBh907Wz",
        "outputId": "eaa45537-e224-4b84-dca4-de6540e7166b"
      },
      "outputs": [
        {
          "output_type": "stream",
          "name": "stdout",
          "text": [
            "enter a number4\n",
            "not prime\n"
          ]
        }
      ],
      "source": [
        "num = int(input(\"enter a number\"))\n",
        "if num > 1:\n",
        "    for i in range(2, num):\n",
        "        if num % i == 0:\n",
        "            print(\"not prime\")\n",
        "            break\n",
        "    else:\n",
        "        print(\"prime\")\n",
        "else:\n",
        "    print(\"not prime\")"
      ]
    },
    {
      "cell_type": "code",
      "source": [
        "num = int(input(\"enter a number\"))\n",
        "i =1;\n",
        "while i <= 10:\n",
        "  print (i * num)\n",
        "  i = i + 1;"
      ],
      "metadata": {
        "colab": {
          "base_uri": "https://localhost:8080/"
        },
        "collapsed": true,
        "id": "PYA5lmXn3mOP",
        "outputId": "ff4caf84-56b0-47f8-9c60-7e53e6d78ab0"
      },
      "execution_count": 10,
      "outputs": [
        {
          "output_type": "stream",
          "name": "stdout",
          "text": [
            "enter a number4\n",
            "4\n",
            "8\n",
            "12\n",
            "16\n",
            "20\n",
            "24\n",
            "28\n",
            "32\n",
            "36\n",
            "40\n"
          ]
        }
      ]
    },
    {
      "cell_type": "code",
      "source": [
        "# prompt: print number is odd or even before its positive or negative number\n",
        "\n",
        "num = int(input(\"enter a number\"))\n",
        "if num >0 and num % 2 == 0:\n",
        "    print(\"positive even\")\n",
        "elif num >0 and num % 2 != 0:\n",
        "    print(\"positive odd\")\n",
        "\n"
      ],
      "metadata": {
        "id": "W1qIVzoy4C87"
      },
      "execution_count": null,
      "outputs": []
    },
    {
      "cell_type": "code",
      "source": [
        "# prompt: print 1 - 100 odd numbers using while loop\n",
        "\n",
        "i = 1\n",
        "while i <= 100:\n",
        "  print(i)\n",
        "  i += 2\n"
      ],
      "metadata": {
        "colab": {
          "base_uri": "https://localhost:8080/"
        },
        "collapsed": true,
        "id": "M1qGSZ7n4Ujk",
        "outputId": "4b04c3a6-4d3e-487c-9735-1827b7571848"
      },
      "execution_count": 12,
      "outputs": [
        {
          "output_type": "stream",
          "name": "stdout",
          "text": [
            "1\n",
            "3\n",
            "5\n",
            "7\n",
            "9\n",
            "11\n",
            "13\n",
            "15\n",
            "17\n",
            "19\n",
            "21\n",
            "23\n",
            "25\n",
            "27\n",
            "29\n",
            "31\n",
            "33\n",
            "35\n",
            "37\n",
            "39\n",
            "41\n",
            "43\n",
            "45\n",
            "47\n",
            "49\n",
            "51\n",
            "53\n",
            "55\n",
            "57\n",
            "59\n",
            "61\n",
            "63\n",
            "65\n",
            "67\n",
            "69\n",
            "71\n",
            "73\n",
            "75\n",
            "77\n",
            "79\n",
            "81\n",
            "83\n",
            "85\n",
            "87\n",
            "89\n",
            "91\n",
            "93\n",
            "95\n",
            "97\n",
            "99\n"
          ]
        }
      ]
    },
    {
      "cell_type": "code",
      "source": [
        "#reverse a string\n",
        "# palindrome - slicing"
      ],
      "metadata": {
        "id": "xVwlYej98iDu"
      },
      "execution_count": null,
      "outputs": []
    },
    {
      "cell_type": "code",
      "source": [
        "str = input(\"enter a string--> \")\n",
        "print(str[::-1])"
      ],
      "metadata": {
        "colab": {
          "base_uri": "https://localhost:8080/"
        },
        "id": "e3nzOPGg6Mr3",
        "outputId": "18f98188-b511-4528-b656-28964eda37fd"
      },
      "execution_count": 5,
      "outputs": [
        {
          "output_type": "stream",
          "name": "stdout",
          "text": [
            "enter a string--> vineela\n",
            "aleeniv\n"
          ]
        }
      ]
    },
    {
      "cell_type": "markdown",
      "source": [],
      "metadata": {
        "id": "ov-8W7CE60gf"
      }
    },
    {
      "cell_type": "code",
      "source": [
        "str = input(\"enter a string--> \")\n",
        "rev = str[::-1]\n",
        "if str == rev:\n",
        "    print(\"palindrome\")\n",
        "else:\n",
        "    print(\"not palindrome\")"
      ],
      "metadata": {
        "id": "T26_W0G-6LCs"
      },
      "execution_count": null,
      "outputs": []
    },
    {
      "cell_type": "markdown",
      "source": [],
      "metadata": {
        "id": "qiTQwtcY61Un"
      }
    },
    {
      "cell_type": "code",
      "source": [
        "#nested for loop\n",
        "for i in \"BLR\":\n",
        "  print(\"outer loop\")\n",
        "  for j in [10,20,30]:\n",
        "    print(\"inner loop\")\n",
        "    print(i,j)"
      ],
      "metadata": {
        "colab": {
          "base_uri": "https://localhost:8080/"
        },
        "id": "8tA6q6nU0pLY",
        "outputId": "55c8284a-a021-4970-aa4e-633432107edf"
      },
      "execution_count": 7,
      "outputs": [
        {
          "output_type": "stream",
          "name": "stdout",
          "text": [
            "outer loop\n",
            "inner loop\n",
            "B 10\n",
            "inner loop\n",
            "B 20\n",
            "inner loop\n",
            "B 30\n",
            "outer loop\n",
            "inner loop\n",
            "L 10\n",
            "inner loop\n",
            "L 20\n",
            "inner loop\n",
            "L 30\n",
            "outer loop\n",
            "inner loop\n",
            "R 10\n",
            "inner loop\n",
            "R 20\n",
            "inner loop\n",
            "R 30\n"
          ]
        }
      ]
    },
    {
      "cell_type": "code",
      "source": [
        "for i in \"bangalore\":\n",
        "  print(i)\n",
        "  if i == 'g':\n",
        "    break\n",
        "\n",
        "print(\"end of for loop\")\n"
      ],
      "metadata": {
        "colab": {
          "base_uri": "https://localhost:8080/"
        },
        "id": "98iz-dyk6jle",
        "outputId": "68bfa417-4076-4770-cee5-56e44d44f15c"
      },
      "execution_count": 15,
      "outputs": [
        {
          "output_type": "stream",
          "name": "stdout",
          "text": [
            "b\n",
            "a\n",
            "n\n",
            "g\n",
            "end of for loop\n"
          ]
        }
      ]
    },
    {
      "cell_type": "code",
      "source": [
        "#starts-with nested if sample program\n",
        "\n",
        "str = input(\"enter the zip code-->\")\n",
        "if str.startswith(\"75\"):\n",
        "  print(\"Frisco\")\n",
        "elif str.startswith(\"65\"):\n",
        "  print(\"Mckinney\")\n",
        "elif str.startswith(\"55\"):\n",
        "  print(\"Prosper\")"
      ],
      "metadata": {
        "colab": {
          "base_uri": "https://localhost:8080/"
        },
        "id": "TUNudx-BCTTt",
        "outputId": "f92df698-3064-4874-b099-78442badf8e7"
      },
      "execution_count": 18,
      "outputs": [
        {
          "output_type": "stream",
          "name": "stdout",
          "text": [
            "enter the zip code-->75078\n",
            "Frisco\n"
          ]
        }
      ]
    },
    {
      "cell_type": "code",
      "source": [
        "#endswith\n",
        "str = input(\"enter the url -->\")\n",
        "if str.endswith(\".com\"):\n",
        "  print(\"website\")\n",
        "elif str.endswith(\".edu\"):\n",
        "  print(\"education website\")\n",
        "elif str.endswith(\".in\"):\n",
        "  print(\"India website\")\n",
        "#"
      ],
      "metadata": {
        "colab": {
          "base_uri": "https://localhost:8080/"
        },
        "id": "8-hy8v05G-fw",
        "outputId": "033402dd-d341-4bcd-ae92-e7333b55ec29"
      },
      "execution_count": 19,
      "outputs": [
        {
          "output_type": "stream",
          "name": "stdout",
          "text": [
            "enter the url -->qa.edu\n",
            "education website\n"
          ]
        }
      ]
    }
  ]
}