{
  "nbformat": 4,
  "nbformat_minor": 0,
  "metadata": {
    "colab": {
      "provenance": [],
      "toc_visible": true,
      "include_colab_link": true
    },
    "kernelspec": {
      "name": "python3",
      "display_name": "Python 3"
    },
    "language_info": {
      "name": "python"
    }
  },
  "cells": [
    {
      "cell_type": "markdown",
      "metadata": {
        "id": "view-in-github",
        "colab_type": "text"
      },
      "source": [
        "<a href=\"https://colab.research.google.com/github/vineela-madarapu/NTT-Python-Training/blob/main/Day1.ipynb\" target=\"_parent\"><img src=\"https://colab.research.google.com/assets/colab-badge.svg\" alt=\"Open In Colab\"/></a>"
      ]
    },
    {
      "cell_type": "code",
      "execution_count": 2,
      "metadata": {
        "id": "JsaNT8QnmmOH",
        "colab": {
          "base_uri": "https://localhost:8080/"
        },
        "outputId": "3fe4ea7f-4ee2-42e8-e278-9ec3b64a5b90"
      },
      "outputs": [
        {
          "output_type": "stream",
          "name": "stdout",
          "text": [
            "Vineela\n"
          ]
        }
      ],
      "source": [
        "print(\"Vineela\")"
      ]
    },
    {
      "cell_type": "code",
      "source": [
        "# prompt: print addition on 2 numbers 3 ,5\n",
        "\n",
        "print(3 + 5)\n"
      ],
      "metadata": {
        "id": "NpHE-xhL1HJn"
      },
      "execution_count": null,
      "outputs": []
    }
  ]
}